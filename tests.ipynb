{
 "cells": [
  {
   "cell_type": "code",
   "execution_count": 9,
   "id": "a39c835d",
   "metadata": {},
   "outputs": [],
   "source": [
    "import pandas as pd\n",
    "import yfinance as yf\n",
    "import plotly.express as px"
   ]
  },
  {
   "cell_type": "code",
   "execution_count": 6,
   "id": "1cebbbd4",
   "metadata": {},
   "outputs": [],
   "source": [
    "history = pd.DataFrame()\n",
    "history['ACA.PA'] = yf.Ticker('ACA.PA').history('1y')['Close'].tz_localize(None)\n",
    "history['DG.PA'] = yf.Ticker('DG.PA').history('1y')['Close'].tz_localize(None)\n",
    "history['MC.PA'] = yf.Ticker('MC.PA').history('1y')['Close'].tz_localize(None)\n",
    "\n",
    "benchmark = pd.DataFrame(yf.Ticker('^GSPC').history('1y')['Close'].tz_localize(None))\n",
    "riskfree = pd.DataFrame(yf.Ticker('^TNX').history('1y')['Close'].tz_localize(None))"
   ]
  },
  {
   "cell_type": "code",
   "execution_count": 11,
   "id": "18d392b5",
   "metadata": {},
   "outputs": [],
   "source": [
    "asset = history['ACA.PA']\n",
    "\n",
    "# Calculate the cumulative percentage change in price or returns\n",
    "index = 100 * (1 + history.pct_change()).cumprod()\n",
    "\n",
    "# Identify the peaks and calculate drawdowns\n",
    "peaks = index.cummax()\n",
    "drawdowns = (index - peaks) / peaks"
   ]
  },
  {
   "cell_type": "code",
   "execution_count": null,
   "id": "44a69a7f",
   "metadata": {},
   "outputs": [
    {
     "data": {
      "application/vnd.plotly.v1+json": {
       "config": {
        "plotlyServerURL": "https://plot.ly"
       },
       "data": [
        {
         "hovertemplate": "variable=ACA.PA<br>Date=%{x}<br>value=%{y}<extra></extra>",
         "legendgroup": "ACA.PA",
         "marker": {
          "color": "#636efa",
          "symbol": "circle"
         },
         "mode": "markers",
         "name": "ACA.PA",
         "orientation": "v",
         "showlegend": true,
         "type": "scatter",
         "x": [
          "2024-08-14T00:00:00",
          "2024-08-15T00:00:00",
          "2024-08-16T00:00:00",
          "2024-08-19T00:00:00",
          "2024-08-20T00:00:00",
          "2024-08-21T00:00:00",
          "2024-08-22T00:00:00",
          "2024-08-23T00:00:00",
          "2024-08-26T00:00:00",
          "2024-08-27T00:00:00",
          "2024-08-28T00:00:00",
          "2024-08-29T00:00:00",
          "2024-08-30T00:00:00",
          "2024-09-02T00:00:00",
          "2024-09-03T00:00:00",
          "2024-09-04T00:00:00",
          "2024-09-05T00:00:00",
          "2024-09-06T00:00:00",
          "2024-09-09T00:00:00",
          "2024-09-10T00:00:00",
          "2024-09-11T00:00:00",
          "2024-09-12T00:00:00",
          "2024-09-13T00:00:00",
          "2024-09-16T00:00:00",
          "2024-09-17T00:00:00",
          "2024-09-18T00:00:00",
          "2024-09-19T00:00:00",
          "2024-09-20T00:00:00",
          "2024-09-23T00:00:00",
          "2024-09-24T00:00:00",
          "2024-09-25T00:00:00",
          "2024-09-26T00:00:00",
          "2024-09-27T00:00:00",
          "2024-09-30T00:00:00",
          "2024-10-01T00:00:00",
          "2024-10-02T00:00:00",
          "2024-10-03T00:00:00",
          "2024-10-04T00:00:00",
          "2024-10-07T00:00:00",
          "2024-10-08T00:00:00",
          "2024-10-09T00:00:00",
          "2024-10-10T00:00:00",
          "2024-10-11T00:00:00",
          "2024-10-14T00:00:00",
          "2024-10-15T00:00:00",
          "2024-10-16T00:00:00",
          "2024-10-17T00:00:00",
          "2024-10-18T00:00:00",
          "2024-10-21T00:00:00",
          "2024-10-22T00:00:00",
          "2024-10-23T00:00:00",
          "2024-10-24T00:00:00",
          "2024-10-25T00:00:00",
          "2024-10-28T00:00:00",
          "2024-10-29T00:00:00",
          "2024-10-30T00:00:00",
          "2024-10-31T00:00:00",
          "2024-11-01T00:00:00",
          "2024-11-04T00:00:00",
          "2024-11-05T00:00:00",
          "2024-11-06T00:00:00",
          "2024-11-07T00:00:00",
          "2024-11-08T00:00:00",
          "2024-11-11T00:00:00",
          "2024-11-12T00:00:00",
          "2024-11-13T00:00:00",
          "2024-11-14T00:00:00",
          "2024-11-15T00:00:00",
          "2024-11-18T00:00:00",
          "2024-11-19T00:00:00",
          "2024-11-20T00:00:00",
          "2024-11-21T00:00:00",
          "2024-11-22T00:00:00",
          "2024-11-25T00:00:00",
          "2024-11-26T00:00:00",
          "2024-11-27T00:00:00",
          "2024-11-28T00:00:00",
          "2024-11-29T00:00:00",
          "2024-12-02T00:00:00",
          "2024-12-03T00:00:00",
          "2024-12-04T00:00:00",
          "2024-12-05T00:00:00",
          "2024-12-06T00:00:00",
          "2024-12-09T00:00:00",
          "2024-12-10T00:00:00",
          "2024-12-11T00:00:00",
          "2024-12-12T00:00:00",
          "2024-12-13T00:00:00",
          "2024-12-16T00:00:00",
          "2024-12-17T00:00:00",
          "2024-12-18T00:00:00",
          "2024-12-19T00:00:00",
          "2024-12-20T00:00:00",
          "2024-12-23T00:00:00",
          "2024-12-24T00:00:00",
          "2024-12-27T00:00:00",
          "2024-12-30T00:00:00",
          "2024-12-31T00:00:00",
          "2025-01-02T00:00:00",
          "2025-01-03T00:00:00",
          "2025-01-06T00:00:00",
          "2025-01-07T00:00:00",
          "2025-01-08T00:00:00",
          "2025-01-09T00:00:00",
          "2025-01-10T00:00:00",
          "2025-01-13T00:00:00",
          "2025-01-14T00:00:00",
          "2025-01-15T00:00:00",
          "2025-01-16T00:00:00",
          "2025-01-17T00:00:00",
          "2025-01-20T00:00:00",
          "2025-01-21T00:00:00",
          "2025-01-22T00:00:00",
          "2025-01-23T00:00:00",
          "2025-01-24T00:00:00",
          "2025-01-27T00:00:00",
          "2025-01-28T00:00:00",
          "2025-01-29T00:00:00",
          "2025-01-30T00:00:00",
          "2025-01-31T00:00:00",
          "2025-02-03T00:00:00",
          "2025-02-04T00:00:00",
          "2025-02-05T00:00:00",
          "2025-02-06T00:00:00",
          "2025-02-07T00:00:00",
          "2025-02-10T00:00:00",
          "2025-02-11T00:00:00",
          "2025-02-12T00:00:00",
          "2025-02-13T00:00:00",
          "2025-02-14T00:00:00",
          "2025-02-17T00:00:00",
          "2025-02-18T00:00:00",
          "2025-02-19T00:00:00",
          "2025-02-20T00:00:00",
          "2025-02-21T00:00:00",
          "2025-02-24T00:00:00",
          "2025-02-25T00:00:00",
          "2025-02-26T00:00:00",
          "2025-02-27T00:00:00",
          "2025-02-28T00:00:00",
          "2025-03-03T00:00:00",
          "2025-03-04T00:00:00",
          "2025-03-05T00:00:00",
          "2025-03-06T00:00:00",
          "2025-03-07T00:00:00",
          "2025-03-10T00:00:00",
          "2025-03-11T00:00:00",
          "2025-03-12T00:00:00",
          "2025-03-13T00:00:00",
          "2025-03-14T00:00:00",
          "2025-03-17T00:00:00",
          "2025-03-18T00:00:00",
          "2025-03-19T00:00:00",
          "2025-03-20T00:00:00",
          "2025-03-21T00:00:00",
          "2025-03-24T00:00:00",
          "2025-03-25T00:00:00",
          "2025-03-26T00:00:00",
          "2025-03-27T00:00:00",
          "2025-03-28T00:00:00",
          "2025-03-31T00:00:00",
          "2025-04-01T00:00:00",
          "2025-04-02T00:00:00",
          "2025-04-03T00:00:00",
          "2025-04-04T00:00:00",
          "2025-04-07T00:00:00",
          "2025-04-08T00:00:00",
          "2025-04-09T00:00:00",
          "2025-04-10T00:00:00",
          "2025-04-11T00:00:00",
          "2025-04-14T00:00:00",
          "2025-04-15T00:00:00",
          "2025-04-16T00:00:00",
          "2025-04-17T00:00:00",
          "2025-04-22T00:00:00",
          "2025-04-23T00:00:00",
          "2025-04-24T00:00:00",
          "2025-04-25T00:00:00",
          "2025-04-28T00:00:00",
          "2025-04-29T00:00:00",
          "2025-04-30T00:00:00",
          "2025-05-02T00:00:00",
          "2025-05-05T00:00:00",
          "2025-05-06T00:00:00",
          "2025-05-07T00:00:00",
          "2025-05-08T00:00:00",
          "2025-05-09T00:00:00",
          "2025-05-12T00:00:00",
          "2025-05-13T00:00:00",
          "2025-05-14T00:00:00",
          "2025-05-15T00:00:00",
          "2025-05-16T00:00:00",
          "2025-05-19T00:00:00",
          "2025-05-20T00:00:00",
          "2025-05-21T00:00:00",
          "2025-05-22T00:00:00",
          "2025-05-23T00:00:00",
          "2025-05-26T00:00:00",
          "2025-05-27T00:00:00",
          "2025-05-28T00:00:00",
          "2025-05-29T00:00:00",
          "2025-05-30T00:00:00",
          "2025-06-02T00:00:00",
          "2025-06-03T00:00:00",
          "2025-06-04T00:00:00",
          "2025-06-05T00:00:00",
          "2025-06-06T00:00:00",
          "2025-06-09T00:00:00",
          "2025-06-10T00:00:00",
          "2025-06-11T00:00:00",
          "2025-06-12T00:00:00",
          "2025-06-13T00:00:00",
          "2025-06-16T00:00:00",
          "2025-06-17T00:00:00",
          "2025-06-18T00:00:00",
          "2025-06-19T00:00:00",
          "2025-06-20T00:00:00",
          "2025-06-23T00:00:00",
          "2025-06-24T00:00:00",
          "2025-06-25T00:00:00",
          "2025-06-26T00:00:00",
          "2025-06-27T00:00:00",
          "2025-06-30T00:00:00",
          "2025-07-01T00:00:00",
          "2025-07-02T00:00:00",
          "2025-07-03T00:00:00",
          "2025-07-04T00:00:00",
          "2025-07-07T00:00:00",
          "2025-07-08T00:00:00",
          "2025-07-09T00:00:00",
          "2025-07-10T00:00:00",
          "2025-07-11T00:00:00",
          "2025-07-14T00:00:00",
          "2025-07-15T00:00:00",
          "2025-07-16T00:00:00",
          "2025-07-17T00:00:00",
          "2025-07-18T00:00:00",
          "2025-07-21T00:00:00",
          "2025-07-22T00:00:00",
          "2025-07-23T00:00:00",
          "2025-07-24T00:00:00",
          "2025-07-25T00:00:00",
          "2025-07-28T00:00:00",
          "2025-07-29T00:00:00",
          "2025-07-30T00:00:00",
          "2025-07-31T00:00:00",
          "2025-08-01T00:00:00",
          "2025-08-04T00:00:00",
          "2025-08-05T00:00:00",
          "2025-08-06T00:00:00",
          "2025-08-07T00:00:00",
          "2025-08-08T00:00:00",
          "2025-08-11T00:00:00",
          "2025-08-12T00:00:00",
          "2025-08-13T00:00:00",
          "2025-08-14T00:00:00"
         ],
         "xaxis": "x",
         "y": {
          "bdata": "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",
          "dtype": "f8"
         },
         "yaxis": "y"
        },
        {
         "hovertemplate": "variable=DG.PA<br>Date=%{x}<br>value=%{y}<extra></extra>",
         "legendgroup": "DG.PA",
         "marker": {
          "color": "#EF553B",
          "symbol": "circle"
         },
         "mode": "markers",
         "name": "DG.PA",
         "orientation": "v",
         "showlegend": true,
         "type": "scatter",
         "x": [
          "2024-08-14T00:00:00",
          "2024-08-15T00:00:00",
          "2024-08-16T00:00:00",
          "2024-08-19T00:00:00",
          "2024-08-20T00:00:00",
          "2024-08-21T00:00:00",
          "2024-08-22T00:00:00",
          "2024-08-23T00:00:00",
          "2024-08-26T00:00:00",
          "2024-08-27T00:00:00",
          "2024-08-28T00:00:00",
          "2024-08-29T00:00:00",
          "2024-08-30T00:00:00",
          "2024-09-02T00:00:00",
          "2024-09-03T00:00:00",
          "2024-09-04T00:00:00",
          "2024-09-05T00:00:00",
          "2024-09-06T00:00:00",
          "2024-09-09T00:00:00",
          "2024-09-10T00:00:00",
          "2024-09-11T00:00:00",
          "2024-09-12T00:00:00",
          "2024-09-13T00:00:00",
          "2024-09-16T00:00:00",
          "2024-09-17T00:00:00",
          "2024-09-18T00:00:00",
          "2024-09-19T00:00:00",
          "2024-09-20T00:00:00",
          "2024-09-23T00:00:00",
          "2024-09-24T00:00:00",
          "2024-09-25T00:00:00",
          "2024-09-26T00:00:00",
          "2024-09-27T00:00:00",
          "2024-09-30T00:00:00",
          "2024-10-01T00:00:00",
          "2024-10-02T00:00:00",
          "2024-10-03T00:00:00",
          "2024-10-04T00:00:00",
          "2024-10-07T00:00:00",
          "2024-10-08T00:00:00",
          "2024-10-09T00:00:00",
          "2024-10-10T00:00:00",
          "2024-10-11T00:00:00",
          "2024-10-14T00:00:00",
          "2024-10-15T00:00:00",
          "2024-10-16T00:00:00",
          "2024-10-17T00:00:00",
          "2024-10-18T00:00:00",
          "2024-10-21T00:00:00",
          "2024-10-22T00:00:00",
          "2024-10-23T00:00:00",
          "2024-10-24T00:00:00",
          "2024-10-25T00:00:00",
          "2024-10-28T00:00:00",
          "2024-10-29T00:00:00",
          "2024-10-30T00:00:00",
          "2024-10-31T00:00:00",
          "2024-11-01T00:00:00",
          "2024-11-04T00:00:00",
          "2024-11-05T00:00:00",
          "2024-11-06T00:00:00",
          "2024-11-07T00:00:00",
          "2024-11-08T00:00:00",
          "2024-11-11T00:00:00",
          "2024-11-12T00:00:00",
          "2024-11-13T00:00:00",
          "2024-11-14T00:00:00",
          "2024-11-15T00:00:00",
          "2024-11-18T00:00:00",
          "2024-11-19T00:00:00",
          "2024-11-20T00:00:00",
          "2024-11-21T00:00:00",
          "2024-11-22T00:00:00",
          "2024-11-25T00:00:00",
          "2024-11-26T00:00:00",
          "2024-11-27T00:00:00",
          "2024-11-28T00:00:00",
          "2024-11-29T00:00:00",
          "2024-12-02T00:00:00",
          "2024-12-03T00:00:00",
          "2024-12-04T00:00:00",
          "2024-12-05T00:00:00",
          "2024-12-06T00:00:00",
          "2024-12-09T00:00:00",
          "2024-12-10T00:00:00",
          "2024-12-11T00:00:00",
          "2024-12-12T00:00:00",
          "2024-12-13T00:00:00",
          "2024-12-16T00:00:00",
          "2024-12-17T00:00:00",
          "2024-12-18T00:00:00",
          "2024-12-19T00:00:00",
          "2024-12-20T00:00:00",
          "2024-12-23T00:00:00",
          "2024-12-24T00:00:00",
          "2024-12-27T00:00:00",
          "2024-12-30T00:00:00",
          "2024-12-31T00:00:00",
          "2025-01-02T00:00:00",
          "2025-01-03T00:00:00",
          "2025-01-06T00:00:00",
          "2025-01-07T00:00:00",
          "2025-01-08T00:00:00",
          "2025-01-09T00:00:00",
          "2025-01-10T00:00:00",
          "2025-01-13T00:00:00",
          "2025-01-14T00:00:00",
          "2025-01-15T00:00:00",
          "2025-01-16T00:00:00",
          "2025-01-17T00:00:00",
          "2025-01-20T00:00:00",
          "2025-01-21T00:00:00",
          "2025-01-22T00:00:00",
          "2025-01-23T00:00:00",
          "2025-01-24T00:00:00",
          "2025-01-27T00:00:00",
          "2025-01-28T00:00:00",
          "2025-01-29T00:00:00",
          "2025-01-30T00:00:00",
          "2025-01-31T00:00:00",
          "2025-02-03T00:00:00",
          "2025-02-04T00:00:00",
          "2025-02-05T00:00:00",
          "2025-02-06T00:00:00",
          "2025-02-07T00:00:00",
          "2025-02-10T00:00:00",
          "2025-02-11T00:00:00",
          "2025-02-12T00:00:00",
          "2025-02-13T00:00:00",
          "2025-02-14T00:00:00",
          "2025-02-17T00:00:00",
          "2025-02-18T00:00:00",
          "2025-02-19T00:00:00",
          "2025-02-20T00:00:00",
          "2025-02-21T00:00:00",
          "2025-02-24T00:00:00",
          "2025-02-25T00:00:00",
          "2025-02-26T00:00:00",
          "2025-02-27T00:00:00",
          "2025-02-28T00:00:00",
          "2025-03-03T00:00:00",
          "2025-03-04T00:00:00",
          "2025-03-05T00:00:00",
          "2025-03-06T00:00:00",
          "2025-03-07T00:00:00",
          "2025-03-10T00:00:00",
          "2025-03-11T00:00:00",
          "2025-03-12T00:00:00",
          "2025-03-13T00:00:00",
          "2025-03-14T00:00:00",
          "2025-03-17T00:00:00",
          "2025-03-18T00:00:00",
          "2025-03-19T00:00:00",
          "2025-03-20T00:00:00",
          "2025-03-21T00:00:00",
          "2025-03-24T00:00:00",
          "2025-03-25T00:00:00",
          "2025-03-26T00:00:00",
          "2025-03-27T00:00:00",
          "2025-03-28T00:00:00",
          "2025-03-31T00:00:00",
          "2025-04-01T00:00:00",
          "2025-04-02T00:00:00",
          "2025-04-03T00:00:00",
          "2025-04-04T00:00:00",
          "2025-04-07T00:00:00",
          "2025-04-08T00:00:00",
          "2025-04-09T00:00:00",
          "2025-04-10T00:00:00",
          "2025-04-11T00:00:00",
          "2025-04-14T00:00:00",
          "2025-04-15T00:00:00",
          "2025-04-16T00:00:00",
          "2025-04-17T00:00:00",
          "2025-04-22T00:00:00",
          "2025-04-23T00:00:00",
          "2025-04-24T00:00:00",
          "2025-04-25T00:00:00",
          "2025-04-28T00:00:00",
          "2025-04-29T00:00:00",
          "2025-04-30T00:00:00",
          "2025-05-02T00:00:00",
          "2025-05-05T00:00:00",
          "2025-05-06T00:00:00",
          "2025-05-07T00:00:00",
          "2025-05-08T00:00:00",
          "2025-05-09T00:00:00",
          "2025-05-12T00:00:00",
          "2025-05-13T00:00:00",
          "2025-05-14T00:00:00",
          "2025-05-15T00:00:00",
          "2025-05-16T00:00:00",
          "2025-05-19T00:00:00",
          "2025-05-20T00:00:00",
          "2025-05-21T00:00:00",
          "2025-05-22T00:00:00",
          "2025-05-23T00:00:00",
          "2025-05-26T00:00:00",
          "2025-05-27T00:00:00",
          "2025-05-28T00:00:00",
          "2025-05-29T00:00:00",
          "2025-05-30T00:00:00",
          "2025-06-02T00:00:00",
          "2025-06-03T00:00:00",
          "2025-06-04T00:00:00",
          "2025-06-05T00:00:00",
          "2025-06-06T00:00:00",
          "2025-06-09T00:00:00",
          "2025-06-10T00:00:00",
          "2025-06-11T00:00:00",
          "2025-06-12T00:00:00",
          "2025-06-13T00:00:00",
          "2025-06-16T00:00:00",
          "2025-06-17T00:00:00",
          "2025-06-18T00:00:00",
          "2025-06-19T00:00:00",
          "2025-06-20T00:00:00",
          "2025-06-23T00:00:00",
          "2025-06-24T00:00:00",
          "2025-06-25T00:00:00",
          "2025-06-26T00:00:00",
          "2025-06-27T00:00:00",
          "2025-06-30T00:00:00",
          "2025-07-01T00:00:00",
          "2025-07-02T00:00:00",
          "2025-07-03T00:00:00",
          "2025-07-04T00:00:00",
          "2025-07-07T00:00:00",
          "2025-07-08T00:00:00",
          "2025-07-09T00:00:00",
          "2025-07-10T00:00:00",
          "2025-07-11T00:00:00",
          "2025-07-14T00:00:00",
          "2025-07-15T00:00:00",
          "2025-07-16T00:00:00",
          "2025-07-17T00:00:00",
          "2025-07-18T00:00:00",
          "2025-07-21T00:00:00",
          "2025-07-22T00:00:00",
          "2025-07-23T00:00:00",
          "2025-07-24T00:00:00",
          "2025-07-25T00:00:00",
          "2025-07-28T00:00:00",
          "2025-07-29T00:00:00",
          "2025-07-30T00:00:00",
          "2025-07-31T00:00:00",
          "2025-08-01T00:00:00",
          "2025-08-04T00:00:00",
          "2025-08-05T00:00:00",
          "2025-08-06T00:00:00",
          "2025-08-07T00:00:00",
          "2025-08-08T00:00:00",
          "2025-08-11T00:00:00",
          "2025-08-12T00:00:00",
          "2025-08-13T00:00:00",
          "2025-08-14T00:00:00"
         ],
         "xaxis": "x",
         "y": {
          "bdata": "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",
          "dtype": "f8"
         },
         "yaxis": "y"
        },
        {
         "hovertemplate": "variable=MC.PA<br>Date=%{x}<br>value=%{y}<extra></extra>",
         "legendgroup": "MC.PA",
         "marker": {
          "color": "#00cc96",
          "symbol": "circle"
         },
         "mode": "markers",
         "name": "MC.PA",
         "orientation": "v",
         "showlegend": true,
         "type": "scatter",
         "x": [
          "2024-08-14T00:00:00",
          "2024-08-15T00:00:00",
          "2024-08-16T00:00:00",
          "2024-08-19T00:00:00",
          "2024-08-20T00:00:00",
          "2024-08-21T00:00:00",
          "2024-08-22T00:00:00",
          "2024-08-23T00:00:00",
          "2024-08-26T00:00:00",
          "2024-08-27T00:00:00",
          "2024-08-28T00:00:00",
          "2024-08-29T00:00:00",
          "2024-08-30T00:00:00",
          "2024-09-02T00:00:00",
          "2024-09-03T00:00:00",
          "2024-09-04T00:00:00",
          "2024-09-05T00:00:00",
          "2024-09-06T00:00:00",
          "2024-09-09T00:00:00",
          "2024-09-10T00:00:00",
          "2024-09-11T00:00:00",
          "2024-09-12T00:00:00",
          "2024-09-13T00:00:00",
          "2024-09-16T00:00:00",
          "2024-09-17T00:00:00",
          "2024-09-18T00:00:00",
          "2024-09-19T00:00:00",
          "2024-09-20T00:00:00",
          "2024-09-23T00:00:00",
          "2024-09-24T00:00:00",
          "2024-09-25T00:00:00",
          "2024-09-26T00:00:00",
          "2024-09-27T00:00:00",
          "2024-09-30T00:00:00",
          "2024-10-01T00:00:00",
          "2024-10-02T00:00:00",
          "2024-10-03T00:00:00",
          "2024-10-04T00:00:00",
          "2024-10-07T00:00:00",
          "2024-10-08T00:00:00",
          "2024-10-09T00:00:00",
          "2024-10-10T00:00:00",
          "2024-10-11T00:00:00",
          "2024-10-14T00:00:00",
          "2024-10-15T00:00:00",
          "2024-10-16T00:00:00",
          "2024-10-17T00:00:00",
          "2024-10-18T00:00:00",
          "2024-10-21T00:00:00",
          "2024-10-22T00:00:00",
          "2024-10-23T00:00:00",
          "2024-10-24T00:00:00",
          "2024-10-25T00:00:00",
          "2024-10-28T00:00:00",
          "2024-10-29T00:00:00",
          "2024-10-30T00:00:00",
          "2024-10-31T00:00:00",
          "2024-11-01T00:00:00",
          "2024-11-04T00:00:00",
          "2024-11-05T00:00:00",
          "2024-11-06T00:00:00",
          "2024-11-07T00:00:00",
          "2024-11-08T00:00:00",
          "2024-11-11T00:00:00",
          "2024-11-12T00:00:00",
          "2024-11-13T00:00:00",
          "2024-11-14T00:00:00",
          "2024-11-15T00:00:00",
          "2024-11-18T00:00:00",
          "2024-11-19T00:00:00",
          "2024-11-20T00:00:00",
          "2024-11-21T00:00:00",
          "2024-11-22T00:00:00",
          "2024-11-25T00:00:00",
          "2024-11-26T00:00:00",
          "2024-11-27T00:00:00",
          "2024-11-28T00:00:00",
          "2024-11-29T00:00:00",
          "2024-12-02T00:00:00",
          "2024-12-03T00:00:00",
          "2024-12-04T00:00:00",
          "2024-12-05T00:00:00",
          "2024-12-06T00:00:00",
          "2024-12-09T00:00:00",
          "2024-12-10T00:00:00",
          "2024-12-11T00:00:00",
          "2024-12-12T00:00:00",
          "2024-12-13T00:00:00",
          "2024-12-16T00:00:00",
          "2024-12-17T00:00:00",
          "2024-12-18T00:00:00",
          "2024-12-19T00:00:00",
          "2024-12-20T00:00:00",
          "2024-12-23T00:00:00",
          "2024-12-24T00:00:00",
          "2024-12-27T00:00:00",
          "2024-12-30T00:00:00",
          "2024-12-31T00:00:00",
          "2025-01-02T00:00:00",
          "2025-01-03T00:00:00",
          "2025-01-06T00:00:00",
          "2025-01-07T00:00:00",
          "2025-01-08T00:00:00",
          "2025-01-09T00:00:00",
          "2025-01-10T00:00:00",
          "2025-01-13T00:00:00",
          "2025-01-14T00:00:00",
          "2025-01-15T00:00:00",
          "2025-01-16T00:00:00",
          "2025-01-17T00:00:00",
          "2025-01-20T00:00:00",
          "2025-01-21T00:00:00",
          "2025-01-22T00:00:00",
          "2025-01-23T00:00:00",
          "2025-01-24T00:00:00",
          "2025-01-27T00:00:00",
          "2025-01-28T00:00:00",
          "2025-01-29T00:00:00",
          "2025-01-30T00:00:00",
          "2025-01-31T00:00:00",
          "2025-02-03T00:00:00",
          "2025-02-04T00:00:00",
          "2025-02-05T00:00:00",
          "2025-02-06T00:00:00",
          "2025-02-07T00:00:00",
          "2025-02-10T00:00:00",
          "2025-02-11T00:00:00",
          "2025-02-12T00:00:00",
          "2025-02-13T00:00:00",
          "2025-02-14T00:00:00",
          "2025-02-17T00:00:00",
          "2025-02-18T00:00:00",
          "2025-02-19T00:00:00",
          "2025-02-20T00:00:00",
          "2025-02-21T00:00:00",
          "2025-02-24T00:00:00",
          "2025-02-25T00:00:00",
          "2025-02-26T00:00:00",
          "2025-02-27T00:00:00",
          "2025-02-28T00:00:00",
          "2025-03-03T00:00:00",
          "2025-03-04T00:00:00",
          "2025-03-05T00:00:00",
          "2025-03-06T00:00:00",
          "2025-03-07T00:00:00",
          "2025-03-10T00:00:00",
          "2025-03-11T00:00:00",
          "2025-03-12T00:00:00",
          "2025-03-13T00:00:00",
          "2025-03-14T00:00:00",
          "2025-03-17T00:00:00",
          "2025-03-18T00:00:00",
          "2025-03-19T00:00:00",
          "2025-03-20T00:00:00",
          "2025-03-21T00:00:00",
          "2025-03-24T00:00:00",
          "2025-03-25T00:00:00",
          "2025-03-26T00:00:00",
          "2025-03-27T00:00:00",
          "2025-03-28T00:00:00",
          "2025-03-31T00:00:00",
          "2025-04-01T00:00:00",
          "2025-04-02T00:00:00",
          "2025-04-03T00:00:00",
          "2025-04-04T00:00:00",
          "2025-04-07T00:00:00",
          "2025-04-08T00:00:00",
          "2025-04-09T00:00:00",
          "2025-04-10T00:00:00",
          "2025-04-11T00:00:00",
          "2025-04-14T00:00:00",
          "2025-04-15T00:00:00",
          "2025-04-16T00:00:00",
          "2025-04-17T00:00:00",
          "2025-04-22T00:00:00",
          "2025-04-23T00:00:00",
          "2025-04-24T00:00:00",
          "2025-04-25T00:00:00",
          "2025-04-28T00:00:00",
          "2025-04-29T00:00:00",
          "2025-04-30T00:00:00",
          "2025-05-02T00:00:00",
          "2025-05-05T00:00:00",
          "2025-05-06T00:00:00",
          "2025-05-07T00:00:00",
          "2025-05-08T00:00:00",
          "2025-05-09T00:00:00",
          "2025-05-12T00:00:00",
          "2025-05-13T00:00:00",
          "2025-05-14T00:00:00",
          "2025-05-15T00:00:00",
          "2025-05-16T00:00:00",
          "2025-05-19T00:00:00",
          "2025-05-20T00:00:00",
          "2025-05-21T00:00:00",
          "2025-05-22T00:00:00",
          "2025-05-23T00:00:00",
          "2025-05-26T00:00:00",
          "2025-05-27T00:00:00",
          "2025-05-28T00:00:00",
          "2025-05-29T00:00:00",
          "2025-05-30T00:00:00",
          "2025-06-02T00:00:00",
          "2025-06-03T00:00:00",
          "2025-06-04T00:00:00",
          "2025-06-05T00:00:00",
          "2025-06-06T00:00:00",
          "2025-06-09T00:00:00",
          "2025-06-10T00:00:00",
          "2025-06-11T00:00:00",
          "2025-06-12T00:00:00",
          "2025-06-13T00:00:00",
          "2025-06-16T00:00:00",
          "2025-06-17T00:00:00",
          "2025-06-18T00:00:00",
          "2025-06-19T00:00:00",
          "2025-06-20T00:00:00",
          "2025-06-23T00:00:00",
          "2025-06-24T00:00:00",
          "2025-06-25T00:00:00",
          "2025-06-26T00:00:00",
          "2025-06-27T00:00:00",
          "2025-06-30T00:00:00",
          "2025-07-01T00:00:00",
          "2025-07-02T00:00:00",
          "2025-07-03T00:00:00",
          "2025-07-04T00:00:00",
          "2025-07-07T00:00:00",
          "2025-07-08T00:00:00",
          "2025-07-09T00:00:00",
          "2025-07-10T00:00:00",
          "2025-07-11T00:00:00",
          "2025-07-14T00:00:00",
          "2025-07-15T00:00:00",
          "2025-07-16T00:00:00",
          "2025-07-17T00:00:00",
          "2025-07-18T00:00:00",
          "2025-07-21T00:00:00",
          "2025-07-22T00:00:00",
          "2025-07-23T00:00:00",
          "2025-07-24T00:00:00",
          "2025-07-25T00:00:00",
          "2025-07-28T00:00:00",
          "2025-07-29T00:00:00",
          "2025-07-30T00:00:00",
          "2025-07-31T00:00:00",
          "2025-08-01T00:00:00",
          "2025-08-04T00:00:00",
          "2025-08-05T00:00:00",
          "2025-08-06T00:00:00",
          "2025-08-07T00:00:00",
          "2025-08-08T00:00:00",
          "2025-08-11T00:00:00",
          "2025-08-12T00:00:00",
          "2025-08-13T00:00:00",
          "2025-08-14T00:00:00"
         ],
         "xaxis": "x",
         "y": {
          "bdata": "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",
          "dtype": "f8"
         },
         "yaxis": "y"
        }
       ],
       "layout": {
        "legend": {
         "title": {
          "text": "variable"
         },
         "tracegroupgap": 0
        },
        "margin": {
         "t": 60
        },
        "template": {
         "data": {
          "bar": [
           {
            "error_x": {
             "color": "#2a3f5f"
            },
            "error_y": {
             "color": "#2a3f5f"
            },
            "marker": {
             "line": {
              "color": "#E5ECF6",
              "width": 0.5
             },
             "pattern": {
              "fillmode": "overlay",
              "size": 10,
              "solidity": 0.2
             }
            },
            "type": "bar"
           }
          ],
          "barpolar": [
           {
            "marker": {
             "line": {
              "color": "#E5ECF6",
              "width": 0.5
             },
             "pattern": {
              "fillmode": "overlay",
              "size": 10,
              "solidity": 0.2
             }
            },
            "type": "barpolar"
           }
          ],
          "carpet": [
           {
            "aaxis": {
             "endlinecolor": "#2a3f5f",
             "gridcolor": "white",
             "linecolor": "white",
             "minorgridcolor": "white",
             "startlinecolor": "#2a3f5f"
            },
            "baxis": {
             "endlinecolor": "#2a3f5f",
             "gridcolor": "white",
             "linecolor": "white",
             "minorgridcolor": "white",
             "startlinecolor": "#2a3f5f"
            },
            "type": "carpet"
           }
          ],
          "choropleth": [
           {
            "colorbar": {
             "outlinewidth": 0,
             "ticks": ""
            },
            "type": "choropleth"
           }
          ],
          "contour": [
           {
            "colorbar": {
             "outlinewidth": 0,
             "ticks": ""
            },
            "colorscale": [
             [
              0,
              "#0d0887"
             ],
             [
              0.1111111111111111,
              "#46039f"
             ],
             [
              0.2222222222222222,
              "#7201a8"
             ],
             [
              0.3333333333333333,
              "#9c179e"
             ],
             [
              0.4444444444444444,
              "#bd3786"
             ],
             [
              0.5555555555555556,
              "#d8576b"
             ],
             [
              0.6666666666666666,
              "#ed7953"
             ],
             [
              0.7777777777777778,
              "#fb9f3a"
             ],
             [
              0.8888888888888888,
              "#fdca26"
             ],
             [
              1,
              "#f0f921"
             ]
            ],
            "type": "contour"
           }
          ],
          "contourcarpet": [
           {
            "colorbar": {
             "outlinewidth": 0,
             "ticks": ""
            },
            "type": "contourcarpet"
           }
          ],
          "heatmap": [
           {
            "colorbar": {
             "outlinewidth": 0,
             "ticks": ""
            },
            "colorscale": [
             [
              0,
              "#0d0887"
             ],
             [
              0.1111111111111111,
              "#46039f"
             ],
             [
              0.2222222222222222,
              "#7201a8"
             ],
             [
              0.3333333333333333,
              "#9c179e"
             ],
             [
              0.4444444444444444,
              "#bd3786"
             ],
             [
              0.5555555555555556,
              "#d8576b"
             ],
             [
              0.6666666666666666,
              "#ed7953"
             ],
             [
              0.7777777777777778,
              "#fb9f3a"
             ],
             [
              0.8888888888888888,
              "#fdca26"
             ],
             [
              1,
              "#f0f921"
             ]
            ],
            "type": "heatmap"
           }
          ],
          "histogram": [
           {
            "marker": {
             "pattern": {
              "fillmode": "overlay",
              "size": 10,
              "solidity": 0.2
             }
            },
            "type": "histogram"
           }
          ],
          "histogram2d": [
           {
            "colorbar": {
             "outlinewidth": 0,
             "ticks": ""
            },
            "colorscale": [
             [
              0,
              "#0d0887"
             ],
             [
              0.1111111111111111,
              "#46039f"
             ],
             [
              0.2222222222222222,
              "#7201a8"
             ],
             [
              0.3333333333333333,
              "#9c179e"
             ],
             [
              0.4444444444444444,
              "#bd3786"
             ],
             [
              0.5555555555555556,
              "#d8576b"
             ],
             [
              0.6666666666666666,
              "#ed7953"
             ],
             [
              0.7777777777777778,
              "#fb9f3a"
             ],
             [
              0.8888888888888888,
              "#fdca26"
             ],
             [
              1,
              "#f0f921"
             ]
            ],
            "type": "histogram2d"
           }
          ],
          "histogram2dcontour": [
           {
            "colorbar": {
             "outlinewidth": 0,
             "ticks": ""
            },
            "colorscale": [
             [
              0,
              "#0d0887"
             ],
             [
              0.1111111111111111,
              "#46039f"
             ],
             [
              0.2222222222222222,
              "#7201a8"
             ],
             [
              0.3333333333333333,
              "#9c179e"
             ],
             [
              0.4444444444444444,
              "#bd3786"
             ],
             [
              0.5555555555555556,
              "#d8576b"
             ],
             [
              0.6666666666666666,
              "#ed7953"
             ],
             [
              0.7777777777777778,
              "#fb9f3a"
             ],
             [
              0.8888888888888888,
              "#fdca26"
             ],
             [
              1,
              "#f0f921"
             ]
            ],
            "type": "histogram2dcontour"
           }
          ],
          "mesh3d": [
           {
            "colorbar": {
             "outlinewidth": 0,
             "ticks": ""
            },
            "type": "mesh3d"
           }
          ],
          "parcoords": [
           {
            "line": {
             "colorbar": {
              "outlinewidth": 0,
              "ticks": ""
             }
            },
            "type": "parcoords"
           }
          ],
          "pie": [
           {
            "automargin": true,
            "type": "pie"
           }
          ],
          "scatter": [
           {
            "fillpattern": {
             "fillmode": "overlay",
             "size": 10,
             "solidity": 0.2
            },
            "type": "scatter"
           }
          ],
          "scatter3d": [
           {
            "line": {
             "colorbar": {
              "outlinewidth": 0,
              "ticks": ""
             }
            },
            "marker": {
             "colorbar": {
              "outlinewidth": 0,
              "ticks": ""
             }
            },
            "type": "scatter3d"
           }
          ],
          "scattercarpet": [
           {
            "marker": {
             "colorbar": {
              "outlinewidth": 0,
              "ticks": ""
             }
            },
            "type": "scattercarpet"
           }
          ],
          "scattergeo": [
           {
            "marker": {
             "colorbar": {
              "outlinewidth": 0,
              "ticks": ""
             }
            },
            "type": "scattergeo"
           }
          ],
          "scattergl": [
           {
            "marker": {
             "colorbar": {
              "outlinewidth": 0,
              "ticks": ""
             }
            },
            "type": "scattergl"
           }
          ],
          "scattermap": [
           {
            "marker": {
             "colorbar": {
              "outlinewidth": 0,
              "ticks": ""
             }
            },
            "type": "scattermap"
           }
          ],
          "scattermapbox": [
           {
            "marker": {
             "colorbar": {
              "outlinewidth": 0,
              "ticks": ""
             }
            },
            "type": "scattermapbox"
           }
          ],
          "scatterpolar": [
           {
            "marker": {
             "colorbar": {
              "outlinewidth": 0,
              "ticks": ""
             }
            },
            "type": "scatterpolar"
           }
          ],
          "scatterpolargl": [
           {
            "marker": {
             "colorbar": {
              "outlinewidth": 0,
              "ticks": ""
             }
            },
            "type": "scatterpolargl"
           }
          ],
          "scatterternary": [
           {
            "marker": {
             "colorbar": {
              "outlinewidth": 0,
              "ticks": ""
             }
            },
            "type": "scatterternary"
           }
          ],
          "surface": [
           {
            "colorbar": {
             "outlinewidth": 0,
             "ticks": ""
            },
            "colorscale": [
             [
              0,
              "#0d0887"
             ],
             [
              0.1111111111111111,
              "#46039f"
             ],
             [
              0.2222222222222222,
              "#7201a8"
             ],
             [
              0.3333333333333333,
              "#9c179e"
             ],
             [
              0.4444444444444444,
              "#bd3786"
             ],
             [
              0.5555555555555556,
              "#d8576b"
             ],
             [
              0.6666666666666666,
              "#ed7953"
             ],
             [
              0.7777777777777778,
              "#fb9f3a"
             ],
             [
              0.8888888888888888,
              "#fdca26"
             ],
             [
              1,
              "#f0f921"
             ]
            ],
            "type": "surface"
           }
          ],
          "table": [
           {
            "cells": {
             "fill": {
              "color": "#EBF0F8"
             },
             "line": {
              "color": "white"
             }
            },
            "header": {
             "fill": {
              "color": "#C8D4E3"
             },
             "line": {
              "color": "white"
             }
            },
            "type": "table"
           }
          ]
         },
         "layout": {
          "annotationdefaults": {
           "arrowcolor": "#2a3f5f",
           "arrowhead": 0,
           "arrowwidth": 1
          },
          "autotypenumbers": "strict",
          "coloraxis": {
           "colorbar": {
            "outlinewidth": 0,
            "ticks": ""
           }
          },
          "colorscale": {
           "diverging": [
            [
             0,
             "#8e0152"
            ],
            [
             0.1,
             "#c51b7d"
            ],
            [
             0.2,
             "#de77ae"
            ],
            [
             0.3,
             "#f1b6da"
            ],
            [
             0.4,
             "#fde0ef"
            ],
            [
             0.5,
             "#f7f7f7"
            ],
            [
             0.6,
             "#e6f5d0"
            ],
            [
             0.7,
             "#b8e186"
            ],
            [
             0.8,
             "#7fbc41"
            ],
            [
             0.9,
             "#4d9221"
            ],
            [
             1,
             "#276419"
            ]
           ],
           "sequential": [
            [
             0,
             "#0d0887"
            ],
            [
             0.1111111111111111,
             "#46039f"
            ],
            [
             0.2222222222222222,
             "#7201a8"
            ],
            [
             0.3333333333333333,
             "#9c179e"
            ],
            [
             0.4444444444444444,
             "#bd3786"
            ],
            [
             0.5555555555555556,
             "#d8576b"
            ],
            [
             0.6666666666666666,
             "#ed7953"
            ],
            [
             0.7777777777777778,
             "#fb9f3a"
            ],
            [
             0.8888888888888888,
             "#fdca26"
            ],
            [
             1,
             "#f0f921"
            ]
           ],
           "sequentialminus": [
            [
             0,
             "#0d0887"
            ],
            [
             0.1111111111111111,
             "#46039f"
            ],
            [
             0.2222222222222222,
             "#7201a8"
            ],
            [
             0.3333333333333333,
             "#9c179e"
            ],
            [
             0.4444444444444444,
             "#bd3786"
            ],
            [
             0.5555555555555556,
             "#d8576b"
            ],
            [
             0.6666666666666666,
             "#ed7953"
            ],
            [
             0.7777777777777778,
             "#fb9f3a"
            ],
            [
             0.8888888888888888,
             "#fdca26"
            ],
            [
             1,
             "#f0f921"
            ]
           ]
          },
          "colorway": [
           "#636efa",
           "#EF553B",
           "#00cc96",
           "#ab63fa",
           "#FFA15A",
           "#19d3f3",
           "#FF6692",
           "#B6E880",
           "#FF97FF",
           "#FECB52"
          ],
          "font": {
           "color": "#2a3f5f"
          },
          "geo": {
           "bgcolor": "white",
           "lakecolor": "white",
           "landcolor": "#E5ECF6",
           "showlakes": true,
           "showland": true,
           "subunitcolor": "white"
          },
          "hoverlabel": {
           "align": "left"
          },
          "hovermode": "closest",
          "mapbox": {
           "style": "light"
          },
          "paper_bgcolor": "white",
          "plot_bgcolor": "#E5ECF6",
          "polar": {
           "angularaxis": {
            "gridcolor": "white",
            "linecolor": "white",
            "ticks": ""
           },
           "bgcolor": "#E5ECF6",
           "radialaxis": {
            "gridcolor": "white",
            "linecolor": "white",
            "ticks": ""
           }
          },
          "scene": {
           "xaxis": {
            "backgroundcolor": "#E5ECF6",
            "gridcolor": "white",
            "gridwidth": 2,
            "linecolor": "white",
            "showbackground": true,
            "ticks": "",
            "zerolinecolor": "white"
           },
           "yaxis": {
            "backgroundcolor": "#E5ECF6",
            "gridcolor": "white",
            "gridwidth": 2,
            "linecolor": "white",
            "showbackground": true,
            "ticks": "",
            "zerolinecolor": "white"
           },
           "zaxis": {
            "backgroundcolor": "#E5ECF6",
            "gridcolor": "white",
            "gridwidth": 2,
            "linecolor": "white",
            "showbackground": true,
            "ticks": "",
            "zerolinecolor": "white"
           }
          },
          "shapedefaults": {
           "line": {
            "color": "#2a3f5f"
           }
          },
          "ternary": {
           "aaxis": {
            "gridcolor": "white",
            "linecolor": "white",
            "ticks": ""
           },
           "baxis": {
            "gridcolor": "white",
            "linecolor": "white",
            "ticks": ""
           },
           "bgcolor": "#E5ECF6",
           "caxis": {
            "gridcolor": "white",
            "linecolor": "white",
            "ticks": ""
           }
          },
          "title": {
           "x": 0.05
          },
          "xaxis": {
           "automargin": true,
           "gridcolor": "white",
           "linecolor": "white",
           "ticks": "",
           "title": {
            "standoff": 15
           },
           "zerolinecolor": "white",
           "zerolinewidth": 2
          },
          "yaxis": {
           "automargin": true,
           "gridcolor": "white",
           "linecolor": "white",
           "ticks": "",
           "title": {
            "standoff": 15
           },
           "zerolinecolor": "white",
           "zerolinewidth": 2
          }
         }
        },
        "xaxis": {
         "anchor": "y",
         "domain": [
          0,
          1
         ],
         "title": {
          "text": "Date"
         }
        },
        "yaxis": {
         "anchor": "x",
         "domain": [
          0,
          1
         ],
         "title": {
          "text": "value"
         }
        }
       }
      }
     },
     "metadata": {},
     "output_type": "display_data"
    }
   ],
   "source": [
    "def drawdowns_comparison(self, portfolio_history, benchmark):\n",
    "    \"\"\"\n",
    "    Generate a performance comparison chart with portfolio, benchmark, and individual assets.\n",
    "    \n",
    "    Parameters:\n",
    "    -----------\n",
    "    portfolio_history : pd.DataFrame\n",
    "        Historical portfolio data with assets as columns\n",
    "    benchmark : pd.Series\n",
    "        Benchmark time series data\n",
    "    \n",
    "    Returns:\n",
    "    --------\n",
    "    str : HTML string of the chart\n",
    "    \"\"\"\n",
    "    # Prepare data\n",
    "    asset_names = portfolio_history.columns.tolist()\n",
    "    comparison_data = portfolio_history.copy()\n",
    "    comparison_data[\"Portfolio\"] = portfolio_history.sum(axis=1)\n",
    "    comparison_data['Benchmark'] = benchmark\n",
    "    comparison_data = comparison_data.dropna()\n",
    "\n",
    "    # Calculate the cumulative percentage change in price or returns\n",
    "    indexed_data = 100 * (1 + comparison_data.pct_change()).cumprod()\n",
    "\n",
    "    # Identify the peaks and calculate drawdowns\n",
    "    peaks = indexed_data.cummax()\n",
    "    indexed_data = (indexed_data - peaks) / peaks\n",
    "    \n",
    "    # Create figure\n",
    "    fig = go.Figure()\n",
    "    \n",
    "    # Add portfolio line\n",
    "    fig.add_trace(go.Scatter(\n",
    "        x=indexed_data.index,\n",
    "        y=indexed_data[\"Portfolio\"],\n",
    "        line_color=\"#1a3a8f\",\n",
    "        mode='lines',\n",
    "        name='Portfolio'\n",
    "    ))\n",
    "    \n",
    "    # Add benchmark line\n",
    "    fig.add_trace(go.Scatter(\n",
    "        x=indexed_data.index,\n",
    "        y=indexed_data[\"Benchmark\"],\n",
    "        line_color='#d62728',\n",
    "        mode='lines',\n",
    "        name='Benchmark'\n",
    "    ))\n",
    "    \n",
    "    # Add individual assets (initially hidden)\n",
    "    color_palette = self._generate_color_palette(\"#1a3a8f\", len(asset_names) + 1)\n",
    "    for asset, color in zip(asset_names, color_palette[1:]):\n",
    "        fig.add_trace(go.Scatter(\n",
    "            x=indexed_data.index,\n",
    "            y=indexed_data[asset],\n",
    "            line=dict(color=color, dash='dashdot'),\n",
    "            mode='lines',\n",
    "            name=asset,\n",
    "            visible='legendonly'\n",
    "        ))\n",
    "    \n",
    "    return self._apply_standard_layout(fig).to_html(config={'displaylogo': False})"
   ]
  },
  {
   "cell_type": "code",
   "execution_count": null,
   "id": "c84f56db",
   "metadata": {},
   "outputs": [],
   "source": []
  }
 ],
 "metadata": {
  "kernelspec": {
   "display_name": "Python 3",
   "language": "python",
   "name": "python3"
  },
  "language_info": {
   "codemirror_mode": {
    "name": "ipython",
    "version": 3
   },
   "file_extension": ".py",
   "mimetype": "text/x-python",
   "name": "python",
   "nbconvert_exporter": "python",
   "pygments_lexer": "ipython3",
   "version": "3.11.9"
  }
 },
 "nbformat": 4,
 "nbformat_minor": 5
}
