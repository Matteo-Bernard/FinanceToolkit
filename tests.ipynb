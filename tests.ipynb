{
 "cells": [
  {
   "cell_type": "code",
   "execution_count": 1,
   "id": "a39c835d",
   "metadata": {},
   "outputs": [],
   "source": [
    "import pandas as pd\n",
    "import yfinance as yf"
   ]
  },
  {
   "cell_type": "code",
   "execution_count": 2,
   "id": "1cebbbd4",
   "metadata": {},
   "outputs": [],
   "source": [
    "asset = yf.Ticker('ACA.PA').history('1y')['Close'].tz_localize(None)\n",
    "benchmark = yf.Ticker('^GSPC').history('1y')['Close'].tz_localize(None)\n",
    "riskfree = 0.043"
   ]
  },
  {
   "cell_type": "code",
   "execution_count": 5,
   "id": "5ff16906",
   "metadata": {},
   "outputs": [],
   "source": [
    "def theta(asset: pd.Series, timeperiod: int = 252) -> float:\n",
    "    \"\"\"\n",
    "    #### Description:\n",
    "    Calculate the average return of a financial instrument over a specified time period.\n",
    "\n",
    "    #### Parameters:\n",
    "    - asset (pd.Series): Time series data representing the historical prices or returns of the financial instrument.\n",
    "    - timeperiod (int, optional): The number of periods to consider for calculating the average return. Default is 252.\n",
    "\n",
    "    #### Returns:\n",
    "    - float: Average return over the specified time period.\n",
    "    \"\"\"\n",
    "    returns = asset.pct_change().dropna()\n",
    "    return (1 + returns).prod() ** (timeperiod / len(returns)) - 1\n",
    "\n",
    "def sortino(asset: pd.Series, riskfree: float, timeperiod: int = 252) -> float:\n",
    "    \"\"\"\n",
    "    #### Description:\n",
    "    Calculate the Sortino Ratio for a financial instrument based on its historical performance.\n",
    "    The Sortino Ratio measures the return per unit of downside risk, focusing only on negative volatility.\n",
    "\n",
    "    #### Parameters:\n",
    "    - asset (pd.Series): Historical price or return data of the asset.\n",
    "    - riskfree (float): The risk-free rate of return, typically representing the return on a risk-free investment.\n",
    "    - timeperiod (int, optional): The time period used for calculating average return and downside deviation. Default is 252.\n",
    "\n",
    "    #### Returns:\n",
    "    - float: The Sortino Ratio, a measure of risk-adjusted performance considering only downside risk.\n",
    "    \"\"\"\n",
    "    # Calculate average return\n",
    "    returns = theta(asset=asset, timeperiod=timeperiod)\n",
    "\n",
    "    # Calculate downside deviation (only negative returns relative to risk-free rate)\n",
    "    daily_returns = asset.pct_change().dropna()\n",
    "    downside_returns = daily_returns[daily_returns < riskfree / timeperiod]\n",
    "    downside_deviation = ( ( (downside_returns - riskfree / timeperiod) ** 2 ).mean() ** 0.5 ) * (timeperiod ** 0.5)\n",
    "\n",
    "    # Avoid division by zero\n",
    "    if downside_deviation == 0:\n",
    "        return float('inf')\n",
    "\n",
    "    # Calculate Sortino Ratio\n",
    "    return (returns - riskfree) / downside_deviation"
   ]
  },
  {
   "cell_type": "code",
   "execution_count": null,
   "id": "321b329a",
   "metadata": {},
   "outputs": [],
   "source": [
    "def upside_capture(asset: pd.Series, benchmark: pd.Series, timeperiod: int = 252) -> float:\n",
    "    \"\"\"\n",
    "    #### Description:\n",
    "    Calculate the Upside Capture Ratio of an asset relative to a benchmark.\n",
    "    The Upside Capture Ratio measures how well the asset performs relative to the benchmark\n",
    "    during periods when the benchmark has positive returns.\n",
    "\n",
    "    #### Parameters:\n",
    "    - asset (pd.Series): Historical price or return data of the asset.\n",
    "    - benchmark (pd.Series): Historical price or return data of the benchmark.\n",
    "    - timeperiod (int, optional): The number of periods per year for annualization. Default is 252.\n",
    "\n",
    "    #### Returns:\n",
    "    - float: Upside Capture Ratio.\n",
    "    \"\"\"\n",
    "    asset_returns = asset.pct_change().dropna()\n",
    "    benchmark_returns = benchmark.pct_change().dropna()\n",
    "\n",
    "    # Align series on dates\n",
    "    asset_returns, benchmark_returns = asset_returns.align(benchmark_returns, join='inner')\n",
    "\n",
    "    # Filter periods when benchmark return is positive\n",
    "    positive_mask = benchmark_returns > 0\n",
    "    asset_positive = asset_returns[positive_mask]\n",
    "    benchmark_positive = benchmark_returns[positive_mask]\n",
    "\n",
    "    if benchmark_positive.mean() == 0:\n",
    "        return float('inf')\n",
    "\n",
    "    return (asset_positive.mean() * timeperiod) / (benchmark_positive.mean() * timeperiod)\n",
    "\n",
    "\n",
    "def downside_capture(asset: pd.Series, benchmark: pd.Series, timeperiod: int = 252) -> float:\n",
    "    \"\"\"\n",
    "    #### Description:\n",
    "    Calculate the Downside Capture Ratio of a financial instrument relative to a benchmark.\n",
    "    The Downside Capture Ratio measures how well the asset performs relative to the benchmark\n",
    "    during periods when the benchmark has negative returns.\n",
    "\n",
    "    #### Parameters:\n",
    "    - asset (pd.Series): Historical price or return data of the asset.\n",
    "    - benchmark (pd.Series): Historical price or return data of the benchmark.\n",
    "    - timeperiod (int, optional): The number of periods per year for annualization. Default is 252.\n",
    "\n",
    "    #### Returns:\n",
    "    - float: Downside Capture Ratio.\n",
    "    \"\"\"\n",
    "    asset_returns = asset.pct_change().dropna()\n",
    "    benchmark_returns = benchmark.pct_change().dropna()\n",
    "\n",
    "    # Align series on dates\n",
    "    asset_returns, benchmark_returns = asset_returns.align(benchmark_returns, join='inner')\n",
    "\n",
    "    # Filter periods when benchmark return is negative\n",
    "    negative_mask = benchmark_returns < 0\n",
    "    asset_negative = asset_returns[negative_mask]\n",
    "    benchmark_negative = benchmark_returns[negative_mask]\n",
    "\n",
    "    if benchmark_negative.mean() == 0:\n",
    "        return float('inf')\n",
    "\n",
    "    return (asset_negative.mean() * timeperiod) / (benchmark_negative.mean() * timeperiod)\n"
   ]
  },
  {
   "cell_type": "code",
   "execution_count": 9,
   "id": "6a9535c4",
   "metadata": {},
   "outputs": [
    {
     "data": {
      "text/plain": [
       "np.float64(0.07700170555823906)"
      ]
     },
     "execution_count": 9,
     "metadata": {},
     "output_type": "execute_result"
    }
   ],
   "source": [
    "downside_capture(asset, benchmark)"
   ]
  },
  {
   "cell_type": "code",
   "execution_count": null,
   "id": "34dcda0d",
   "metadata": {},
   "outputs": [],
   "source": []
  }
 ],
 "metadata": {
  "kernelspec": {
   "display_name": "Python 3",
   "language": "python",
   "name": "python3"
  },
  "language_info": {
   "codemirror_mode": {
    "name": "ipython",
    "version": 3
   },
   "file_extension": ".py",
   "mimetype": "text/x-python",
   "name": "python",
   "nbconvert_exporter": "python",
   "pygments_lexer": "ipython3",
   "version": "3.11.9"
  }
 },
 "nbformat": 4,
 "nbformat_minor": 5
}
